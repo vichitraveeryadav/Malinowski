{
  "nbformat": 4,
  "nbformat_minor": 0,
  "metadata": {
    "colab": {
      "provenance": [],
      "authorship_tag": "ABX9TyMRveNlCgsG64QBC/cvFwvW",
      "include_colab_link": true
    },
    "kernelspec": {
      "name": "python3",
      "display_name": "Python 3"
    },
    "language_info": {
      "name": "python"
    }
  },
  "cells": [
    {
      "cell_type": "markdown",
      "metadata": {
        "id": "view-in-github",
        "colab_type": "text"
      },
      "source": [
        "<a href=\"https://colab.research.google.com/github/vichitraveeryadav/Malinowski/blob/main/app_py.ipynb\" target=\"_parent\"><img src=\"https://colab.research.google.com/assets/colab-badge.svg\" alt=\"Open In Colab\"/></a>"
      ]
    },
    {
      "cell_type": "code",
      "execution_count": null,
      "metadata": {
        "id": "gK8BZ-OQoPSh"
      },
      "outputs": [],
      "source": [
        "from fastapi import FastAPI, UploadFile, File, HTTPException\n",
        "from pathlib import Path\n",
        "import pytesseract, shutil, uuid, os, json\n",
        "from datetime import datetime\n",
        "from pydantic import BaseModel\n",
        "\n",
        "app = FastAPI(title=\"Immigration OCR\", version=\"1.0\")\n",
        "\n",
        "class OCRResponse(BaseModel):\n",
        "  document_type: str\n",
        "  confidence: float\n",
        "  text: str\n",
        "\n",
        "@app.post(\"/ocr\", response_model=OCRResponse)\n",
        "async def ocr_endpoint(file: UploadFile = File(...)):\n",
        "  if file.content_type not in (\"image/jpeg\", \"image/png\"):\n",
        "    raise HTTPException(415, \"Only JPEG/PNG accepted\")\n",
        "  temp = Path(f\"/tmp/{uuid.uuid4().hex}{Path(file.filename).suffix}\")\n",
        "  with temp.open(\"wb\") as buffer:\n",
        "    shutil.copyfileobj(file.file, buffer)\n",
        "\n",
        "    text = pytesseract.image_to_string(temp, lang=\"eng+hin\")\n",
        "    os.remove(temp)\n",
        "\n",
        "    # Very Naive Classifier\n",
        "    lower = text.lower()\n",
        "    if \"passport\" in lower()\n",
        "      doc_type = \"passport\"\n",
        "    elif \"visa\" in lower:\n",
        "      doc_type = \"visa\"\n",
        "    else:\n",
        "      doc_type = \"unknown\"\n",
        "\n",
        "    return OCRResponse(\n",
        "        document_type=doc_type,\n",
        "          confidence=0.8,\n",
        "          text=text[:1000]\n",
        "    )"
      ]
    }
  ]
}